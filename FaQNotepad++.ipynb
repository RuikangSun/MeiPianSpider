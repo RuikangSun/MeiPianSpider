{
 "cells": [
  {
   "cell_type": "code",
   "execution_count": null,
   "metadata": {},
   "outputs": [],
   "source": [
    "import requests\n",
    "import re\n",
    "import os\n",
    "from urllib import request\n",
    "from bs4 import BeautifulSoup\n",
    "url = \"https://www.meipian.cn/3d7onlet\"\n",
    "\n",
    "r = requests.get(url)\n",
    "r.encoding = 'utf-8'\n",
    "soup=BeautifulSoup(r.text,'html.parser')\n",
    "title = soup.title.text\n",
    "\n",
    "\n",
    "item = soup.find_all('img')\n",
    "UrlList = []\n",
    "RealImgCounter = 0\n",
    "FakeImgCounter = 0\n",
    "for i in item:\n",
    "    if \"-mobile\" in str(i):\n",
    "        head1, sep1, tail1 = str(i).partition('src=\"')\n",
    "        head2, sep2, tail2 = tail1.partition('-mobile')\n",
    "        UrlList.append(head2)\n",
    "        RealImgCounter += 1\n",
    "    elif \"meipian-watermark\" in str(i):\n",
    "        head3, sep3, tail3 = str(i).partition('show-img=\"')\n",
    "        head4, sep4, tail24 = tail3.partition('?meipian-watermark')\n",
    "        UrlList.append(head4)\n",
    "        RealImgCounter += 1\n",
    "    else:\n",
    "        FakeImgCounter +=1\n",
    "\n",
    "print(title+\"\\n\")\n",
    "print(\"共找到\" + str(RealImgCounter + FakeImgCounter) + \"张照片，其中有意义的照片共\" + str(RealImgCounter) + \"张。\")\n",
    "\n",
    "path = os.getcwd() + \"\\\\{0}\\\\\".format(title)   #'.\\{0}\\\\'.format(title)\n",
    "#print(path)\n",
    "#path = path.rstrip(\"\\\\\")\n",
    "try: \n",
    "    os.makedirs(path)\n",
    "finally:\n",
    "    file = open('{0}\\\\URLS.txt'.format(path),'w',encoding='utf-8');\n",
    "for ImgUrl in UrlList:\n",
    "    file.write(ImgUrl + \"\\n\");\n",
    "file.write(\"\\n#标题：\"+ title + \"\\n\")\n",
    "file.write(\"#来源：\"+ url + \"\\n\")\n",
    "file.close();       \n",
    "print(\"已将图片地址保存在txt文件中\")\n",
    "\n",
    "j = 1\n",
    "for ImgUrl in UrlList:\n",
    "    request.urlretrieve(ImgUrl, path + \"\\{0}.jpg\".format(j))\n",
    "    print(\"已下载{0}图片中的第{1}张\".format(RealImgCounter,j))\n",
    "    j = j + 1\n",
    "    \n",
    "\n",
    "    \n"
   ]
  }
 ],
 "metadata": {
  "kernelspec": {
   "display_name": "Python 3",
   "language": "python",
   "name": "python3"
  },
  "language_info": {
   "codemirror_mode": {
    "name": "ipython",
    "version": 3
   },
   "file_extension": ".py",
   "mimetype": "text/x-python",
   "name": "python",
   "nbconvert_exporter": "python",
   "pygments_lexer": "ipython3",
   "version": "3.8.3"
  }
 },
 "nbformat": 4,
 "nbformat_minor": 4
}
